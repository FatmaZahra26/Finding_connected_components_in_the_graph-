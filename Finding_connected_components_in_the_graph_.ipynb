{
  "nbformat": 4,
  "nbformat_minor": 0,
  "metadata": {
    "colab": {
      "provenance": []
    },
    "kernelspec": {
      "name": "python3",
      "display_name": "Python 3"
    },
    "language_info": {
      "name": "python"
    }
  },
  "cells": [
    {
      "cell_type": "markdown",
      "source": [
        "# Finding connected components in a graph:\n",
        "This project was realized by: Nizar Masmoudi, Ahmed Belgacem, Fatma Zahra Zakhama.  \n"
      ],
      "metadata": {
        "id": "zGw4HBahareB"
      }
    },
    {
      "cell_type": "markdown",
      "source": [
        "# Introduction:\n",
        "In this project we tackle the problem of finding connected components in a graph.  \n",
        "Throughout this work finding connected components is defined as  disjoint subgraphs in which any two vertices are connected to each other by paths.  \n",
        "\n",
        "We use the article [CCF: Fast and Scalable Connected Component\n",
        "Computation in MapReduce](https://www.cse.unr.edu/~hkardes/pdfs/ccf.pdf) by Hakan Kardes, Siddharth Agrawal, Xin Wang, and Ang Sun as a reference. The article presents a MapReduce scalable approch.\n",
        "\n",
        "The method proposed in this article for finding connected components in a given graph is shown in the figure below.\n"
      ],
      "metadata": {
        "id": "3137FJv8VtRT"
      }
    },
    {
      "cell_type": "markdown",
      "source": [
        "![projet-mapreduce.png](data:image/png;base64,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)"
      ],
      "metadata": {
        "id": "UjHwswGTW1Ki"
      }
    },
    {
      "cell_type": "markdown",
      "source": [
        "The input of the Connected Component Finder (CCF) module is the edge list. As an output from the module, we want the mapping from each node in the\n",
        "graph to its corresponding componentID. For simplicity, we\n",
        "use the smallest node id in each connected component as the\n",
        "identifier of that component.\n",
        "\n",
        "Throughout this notebook we provide a spark implementation to the MapReduce algorithm.\n",
        "First we will try with the small graph introduced in the article to check our implementation is working well. We will use networkx for the graph implementation. Then we will use the [Web-Google dataset](http://snap.stanford.edu/data/web-Google.html).  "
      ],
      "metadata": {
        "id": "3avv0rtaYhYW"
      }
    },
    {
      "cell_type": "markdown",
      "source": [
        "## Installing and importing modules:"
      ],
      "metadata": {
        "id": "PJjB3bfETbSS"
      }
    },
    {
      "cell_type": "code",
      "source": [
        "!pip install pyspark"
      ],
      "metadata": {
        "id": "L6JZjrKtNWbk",
        "colab": {
          "base_uri": "https://localhost:8080/"
        },
        "outputId": "454e9d51-17d1-42ed-b58f-d3adf64d78e1"
      },
      "execution_count": 3,
      "outputs": [
        {
          "output_type": "stream",
          "name": "stdout",
          "text": [
            "Looking in indexes: https://pypi.org/simple, https://us-python.pkg.dev/colab-wheels/public/simple/\n",
            "Collecting pyspark\n",
            "  Downloading pyspark-3.3.2.tar.gz (281.4 MB)\n",
            "\u001b[2K     \u001b[90m━━━━━━━━━━━━━━━━━━━━━━━━━━━━━━━━━━━━━━━\u001b[0m \u001b[32m281.4/281.4 MB\u001b[0m \u001b[31m4.2 MB/s\u001b[0m eta \u001b[36m0:00:00\u001b[0m\n",
            "\u001b[?25h  Preparing metadata (setup.py) ... \u001b[?25l\u001b[?25hdone\n",
            "Collecting py4j==0.10.9.5\n",
            "  Downloading py4j-0.10.9.5-py2.py3-none-any.whl (199 kB)\n",
            "\u001b[2K     \u001b[90m━━━━━━━━━━━━━━━━━━━━━━━━━━━━━━━━━━━━━━━\u001b[0m \u001b[32m199.7/199.7 KB\u001b[0m \u001b[31m7.8 MB/s\u001b[0m eta \u001b[36m0:00:00\u001b[0m\n",
            "\u001b[?25hBuilding wheels for collected packages: pyspark\n",
            "  Building wheel for pyspark (setup.py) ... \u001b[?25l\u001b[?25hdone\n",
            "  Created wheel for pyspark: filename=pyspark-3.3.2-py2.py3-none-any.whl size=281824025 sha256=eccbb0c39fdb7084252f9bb9def6e756e4f3120f32fa62cfcd669182db84071c\n",
            "  Stored in directory: /root/.cache/pip/wheels/b1/59/a0/a1a0624b5e865fd389919c1a10f53aec9b12195d6747710baf\n",
            "Successfully built pyspark\n",
            "Installing collected packages: py4j, pyspark\n",
            "Successfully installed py4j-0.10.9.5 pyspark-3.3.2\n"
          ]
        }
      ]
    },
    {
      "cell_type": "code",
      "execution_count": 4,
      "metadata": {
        "id": "GIl88amLM2kE"
      },
      "outputs": [],
      "source": [
        "from pyspark import SparkConf\n",
        "from pyspark.context import SparkContext\n",
        "from pyspark.rdd import RDD, PipelinedRDD\n",
        "from typing import Any, Iterator, Generator\n",
        "from pyspark.accumulators import Accumulator\n",
        "import networkx as nx\n",
        "import matplotlib.pyplot as plt\n",
        "sc = SparkContext.getOrCreate(SparkConf().setMaster('local[*]'))"
      ]
    },
    {
      "cell_type": "markdown",
      "source": [
        "# Preparing the graph"
      ],
      "metadata": {
        "id": "kMxra3HNZfQC"
      }
    },
    {
      "cell_type": "markdown",
      "source": [
        "First we will be trying our implementation on the graph presented as an example in the article. The implementation should only need 4 iterations"
      ],
      "metadata": {
        "id": "pk8n9e6LZ1v8"
      }
    },
    {
      "cell_type": "code",
      "source": [
        "plt.rcParams['figure.facecolor'] = '383838'\n",
        "plt.rcParams['axes.facecolor'] = '383838'\n",
        "plt.rcParams['axes.spines.right'] = plt.rcParams['axes.spines.left'] = plt.rcParams['axes.spines.top'] = plt.rcParams['axes.spines.bottom'] = False\n",
        "\n",
        "nodes = ['A', 'B', 'C', 'D', 'E', 'F', 'G', 'H']\n",
        "edges = [('A', 'B'), ('B', 'C'), ('B', 'D'), ('D', 'E'), ('F', 'G'), ('G', 'H')]\n",
        "G = nx.Graph()\n",
        "G.add_nodes_from(nodes)\n",
        "G.add_edges_from(edges)\n",
        "pos = nx.planar_layout(G)\n",
        "\n",
        "plt.figure(figsize = (10, 10))\n",
        "nx.draw_networkx(G, pos, node_size = 800, edge_color = 'w', node_color = 'w')"
      ],
      "metadata": {
        "colab": {
          "base_uri": "https://localhost:8080/",
          "height": 575
        },
        "id": "wC2Imc28OMIH",
        "outputId": "bd471cbf-3e64-47db-914e-4f5aa820b6d6"
      },
      "execution_count": 6,
      "outputs": [
        {
          "output_type": "display_data",
          "data": {
            "text/plain": [
              "<Figure size 720x720 with 1 Axes>"
            ],
            "image/png": "[encoded data removed]"
          },
          "metadata": {}
        }
      ]
    },
    {
      "cell_type": "code",
      "source": [
        "nodes = list(G.nodes)\n",
        "edge_list = [(nodes.index(x), nodes.index(y)) for x, y in G.edges]"
      ],
      "metadata": {
        "id": "IQxv1s8DZwJJ"
      },
      "execution_count": 7,
      "outputs": []
    },
    {
      "cell_type": "markdown",
      "source": [
        "# Connected Component Finder(CCF) Module"
      ],
      "metadata": {
        "id": "HdOV9fhsaoE-"
      }
    },
    {
      "cell_type": "code",
      "source": [
        "class CCF:\n",
        "  class Iterate:\n",
        "    @staticmethod\n",
        "    def map(x: Iterator) -> tuple:\n",
        "      key, value = x\n",
        "      return ((key, value), (value, key))\n",
        "    \n",
        "    @staticmethod\n",
        "    def reduce(x: Iterator, counter: Accumulator = None) -> Generator:\n",
        "      key, values = x\n",
        "      value_list = []\n",
        "      min_ = key\n",
        "      for value in values:\n",
        "        if value < min_:\n",
        "          min_ = value\n",
        "        value_list.append(value)\n",
        "      if (min_ < key):\n",
        "        yield (key, min_)\n",
        "        for value in value_list:\n",
        "          if min_ != value:\n",
        "            if counter: counter.add(1)\n",
        "            yield (value, min_)\n",
        "  class IterateSS(Iterate):\n",
        "    @staticmethod\n",
        "    def reduce(x: Iterator, counter: Accumulator = None) -> Generator:\n",
        "      key, values = x\n",
        "      min_ = values[0]\n",
        "      if(min_ < key):\n",
        "        yield(key, min_)\n",
        "        for value in values[1:]:\n",
        "          yield(value, min_)\n",
        "          if counter: counter.add(1)\n",
        "\n",
        "  class Dedup:\n",
        "    @staticmethod\n",
        "    def map(x: Iterator) -> tuple:\n",
        "      key, value = x\n",
        "      return ((key, value), None)\n",
        "    @staticmethod\n",
        "    def reduce(x: Iterator) -> tuple:\n",
        "      key, value = x\n",
        "      return (key[0], key[1])\n",
        "\n",
        "class CCFSpark:\n",
        "  def __init__(self, sc: SparkContext, rdd):\n",
        "    self.sc = sc\n",
        "    self.counter = sc.accumulator(0)\n",
        "    self.rdd = rdd\n",
        "  def iterate(self):\n",
        "    counter = self.counter # To avoid SPARK-5063 error.\n",
        "    counter.value = 1\n",
        "    n_iter = 1\n",
        "    while counter.value > 0:\n",
        "      counter.value = 0\n",
        "      self.rdd = self.rdd.flatMap(CCF.Iterate.map)\n",
        "      self.rdd = self.rdd.groupByKey().flatMap(lambda x: CCF.Iterate.reduce(x, counter))\n",
        "      self.rdd = self.rdd.map(CCF.Dedup.map)\n",
        "      self.rdd = self.rdd.groupByKey().map(CCF.Dedup.reduce)\n",
        "      self.rdd.collect()\n",
        "      print('Iteration {} - Counter = {}'.format(n_iter, counter.value))\n",
        "      n_iter += 1\n",
        "      if counter.value == 0:\n",
        "        break\n",
        "  def iterateSS(self):\n",
        "    counter = self.counter # To avoid SPARK-5063 error.\n",
        "    counter.value = 1\n",
        "    n_iter = 1\n",
        "    while counter.value > 0:\n",
        "      counter.value = 0\n",
        "      self.rdd = self.rdd.flatMap(CCF.Iterate.map)\n",
        "      self.rdd = self.rdd.groupByKey().map(lambda x: (x[0], sorted(x[1]))).flatMap(lambda x: CCF.Iterate.reduce(x, counter))\n",
        "      self.rdd = self.rdd.map(CCF.Dedup.map)\n",
        "      self.rdd = self.rdd.groupByKey().map(CCF.Dedup.reduce)\n",
        "      self.rdd.collect()\n",
        "      print('Iteration {} - Counter = {}'.format(n_iter, counter.value))\n",
        "      n_iter += 1\n",
        "      if counter.value == 0:\n",
        "        break"
      ],
      "metadata": {
        "id": "su6kjc3fSNrT"
      },
      "execution_count": 21,
      "outputs": []
    },
    {
      "cell_type": "markdown",
      "source": [
        "Let's try the implementation on the graph first with the naive iterate then with secondary sorting."
      ],
      "metadata": {
        "id": "WazYFMnHi9E3"
      }
    },
    {
      "cell_type": "code",
      "source": [
        "rdd = sc.parallelize(edge_list)\n",
        "finder = CCFSpark(sc, rdd)\n",
        "finder.iterate()"
      ],
      "metadata": {
        "colab": {
          "base_uri": "https://localhost:8080/"
        },
        "id": "PapDeFbKXdB9",
        "outputId": "93562728-fe66-4d28-a46a-5a797f713bb2"
      },
      "execution_count": 24,
      "outputs": [
        {
          "output_type": "stream",
          "name": "stdout",
          "text": [
            "Iteration 1 - Counter = 4\n",
            "Iteration 2 - Counter = 9\n",
            "Iteration 3 - Counter = 4\n",
            "Iteration 4 - Counter = 0\n"
          ]
        }
      ]
    },
    {
      "cell_type": "code",
      "source": [
        "rdd = sc.parallelize(edge_list)\n",
        "finder = CCFSpark(sc, rdd)\n",
        "finder.iterateSS()"
      ],
      "metadata": {
        "colab": {
          "base_uri": "https://localhost:8080/"
        },
        "id": "KanSNzETjM7X",
        "outputId": "7b75eb3d-902e-4bf9-d215-a40deade4f97"
      },
      "execution_count": 25,
      "outputs": [
        {
          "output_type": "stream",
          "name": "stdout",
          "text": [
            "Iteration 1 - Counter = 4\n",
            "Iteration 2 - Counter = 9\n",
            "Iteration 3 - Counter = 4\n",
            "Iteration 4 - Counter = 0\n"
          ]
        }
      ]
    },
    {
      "cell_type": "markdown",
      "source": [
        "We can see that our implementation only needed 4 iterations as the result seen in the article."
      ],
      "metadata": {
        "id": "wLc2tEgTaxgj"
      }
    },
    {
      "cell_type": "markdown",
      "source": [
        "# Trying the implementation on the Web Google Dataset"
      ],
      "metadata": {
        "id": "dM7jocRnb7rY"
      }
    },
    {
      "cell_type": "markdown",
      "source": [
        "We will be trying now the implementation on the [Web Google Dataset](https://snap.stanford.edu/data/web-Google.html?fbclid=IwAR1R7_UjSSgmG9Mcr32ociPSGetOA9TrHCY1Wdx7VyjuT1JY6KskIp_BJcU). "
      ],
      "metadata": {
        "id": "JxEE8cbVbBCm"
      }
    },
    {
      "cell_type": "markdown",
      "source": [
        "![image.png](data:image/png;base64,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)"
      ],
      "metadata": {
        "id": "HL8jugi3bdnB"
      }
    },
    {
      "cell_type": "markdown",
      "source": [
        "The website shows that the largest connected component in the graph consists of 855802 nodes. As our approch uses the smallest node in each component as ComponentID, we should find 855801 nodes in the largest connected component after running the algorithm."
      ],
      "metadata": {
        "id": "snOVPerrbgKB"
      }
    },
    {
      "cell_type": "code",
      "source": [
        "!wget http://snap.stanford.edu/data/web-Google.txt.gz\n",
        "!gzip -d /content/web-Google.txt.gz"
      ],
      "metadata": {
        "id": "N6haTyTzbXtl",
        "colab": {
          "base_uri": "https://localhost:8080/"
        },
        "outputId": "7a3b8589-de74-4505-d42f-7a1021434bcc"
      },
      "execution_count": 10,
      "outputs": [
        {
          "output_type": "stream",
          "name": "stdout",
          "text": [
            "--2023-02-16 14:30:10--  http://snap.stanford.edu/data/web-Google.txt.gz\n",
            "Resolving snap.stanford.edu (snap.stanford.edu)... 171.64.75.80\n",
            "Connecting to snap.stanford.edu (snap.stanford.edu)|171.64.75.80|:80... connected.\n",
            "HTTP request sent, awaiting response... 200 OK\n",
            "Length: 21168784 (20M) [application/x-gzip]\n",
            "Saving to: ‘web-Google.txt.gz’\n",
            "\n",
            "web-Google.txt.gz   100%[===================>]  20.19M  5.89MB/s    in 3.4s    \n",
            "\n",
            "2023-02-16 14:30:14 (5.89 MB/s) - ‘web-Google.txt.gz’ saved [21168784/21168784]\n",
            "\n"
          ]
        }
      ]
    },
    {
      "cell_type": "code",
      "source": [
        "!head /content/web-Google.txt"
      ],
      "metadata": {
        "colab": {
          "base_uri": "https://localhost:8080/"
        },
        "id": "WYuvG6BicD7_",
        "outputId": "8affe281-cf90-406c-b280-d6f033a0dccc"
      },
      "execution_count": 11,
      "outputs": [
        {
          "output_type": "stream",
          "name": "stdout",
          "text": [
            "# Directed graph (each unordered pair of nodes is saved once): web-Google.txt \r\n",
            "# Webgraph from the Google programming contest, 2002\r\n",
            "# Nodes: 875713 Edges: 5105039\r\n",
            "# FromNodeId\tToNodeId\r\n",
            "0\t11342\r\n",
            "0\t824020\r\n",
            "0\t867923\r\n",
            "0\t891835\r\n",
            "11342\t0\r\n",
            "11342\t27469\r\n"
          ]
        }
      ]
    },
    {
      "cell_type": "code",
      "source": [
        "!tail -n +5 /content/web-Google.txt > graph.txt"
      ],
      "metadata": {
        "id": "Hq7Nsi6McFTK"
      },
      "execution_count": 12,
      "outputs": []
    },
    {
      "cell_type": "code",
      "source": [
        "!head /content/graph.txt"
      ],
      "metadata": {
        "colab": {
          "base_uri": "https://localhost:8080/"
        },
        "id": "h8v30hMZcHaw",
        "outputId": "87e48eaa-ff01-45bf-f6a9-ce912fb25fc0"
      },
      "execution_count": 13,
      "outputs": [
        {
          "output_type": "stream",
          "name": "stdout",
          "text": [
            "0\t11342\r\n",
            "0\t824020\r\n",
            "0\t867923\r\n",
            "0\t891835\r\n",
            "11342\t0\r\n",
            "11342\t27469\r\n",
            "11342\t38716\r\n",
            "11342\t309564\r\n",
            "11342\t322178\r\n",
            "11342\t387543\r\n"
          ]
        }
      ]
    },
    {
      "cell_type": "code",
      "source": [
        "graph = sc.textFile('/content/graph.txt').map(lambda x : x.split('\\t')).map(lambda x: (int(x[0]), int(x[1])))"
      ],
      "metadata": {
        "id": "GBirh3Z1cJiI"
      },
      "execution_count": 14,
      "outputs": []
    },
    {
      "cell_type": "code",
      "source": [
        "finder = CCFSpark(sc, graph)\n",
        "finder.iterate()"
      ],
      "metadata": {
        "colab": {
          "base_uri": "https://localhost:8080/"
        },
        "id": "BctZFeBWcMLH",
        "outputId": "b514f319-6f19-4634-a9d0-eedc7a260296"
      },
      "execution_count": 15,
      "outputs": [
        {
          "output_type": "stream",
          "name": "stdout",
          "text": [
            "Iteration 1 - Counter = 8552232\n",
            "Iteration 2 - Counter = 4758451\n",
            "Iteration 3 - Counter = 3278772\n",
            "Iteration 4 - Counter = 3888454\n",
            "Iteration 5 - Counter = 1905323\n",
            "Iteration 6 - Counter = 86783\n",
            "Iteration 7 - Counter = 1318\n",
            "Iteration 8 - Counter = 0\n"
          ]
        }
      ]
    },
    {
      "cell_type": "code",
      "source": [
        "finder.rdd.map(lambda x: (x[1], 1))\\\n",
        "          .reduceByKey(lambda x, y: x + y)\\\n",
        "          .sortBy(lambda x: x[1], ascending = False)\\\n",
        "          .take(10)"
      ],
      "metadata": {
        "id": "IT8g2IBPcQro",
        "outputId": "5218f792-4802-4e25-9ba5-d87d4686c7d6",
        "colab": {
          "base_uri": "https://localhost:8080/"
        }
      },
      "execution_count": 16,
      "outputs": [
        {
          "output_type": "execute_result",
          "data": {
            "text/plain": [
              "[(0, 855801),\n",
              " (1734, 403),\n",
              " (1363, 383),\n",
              " (2919, 318),\n",
              " (5400, 252),\n",
              " (8107, 173),\n",
              " (4390, 114),\n",
              " (12615, 99),\n",
              " (6532, 91),\n",
              " (16674, 80)]"
            ]
          },
          "metadata": {},
          "execution_count": 16
        }
      ]
    },
    {
      "cell_type": "markdown",
      "source": [
        "We can see we have the right number of nodes in the largest connected component."
      ],
      "metadata": {
        "id": "FCTAzAD9dtzi"
      }
    }
  ]
}